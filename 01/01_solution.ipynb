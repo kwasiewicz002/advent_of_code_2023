{
 "cells": [
  {
   "cell_type": "markdown",
   "id": "d8845b40-f167-4ba2-b8bf-5bb8402a3e46",
   "metadata": {},
   "source": [
    "### Part 1"
   ]
  },
  {
   "cell_type": "code",
   "execution_count": 60,
   "id": "9a4331bf-0f1a-4431-b31b-b27813f7fc1b",
   "metadata": {},
   "outputs": [],
   "source": [
    "# read the input\n",
    "input_data = open(\"01_input.txt\", \"r\").read()\n",
    "input_list = input_data.split(\"\\n\") "
   ]
  },
  {
   "cell_type": "code",
   "execution_count": 10,
   "id": "0e5cebc8-1d3b-455e-a6cd-271f8704109c",
   "metadata": {},
   "outputs": [],
   "source": [
    "all_numbers = []\n",
    "\n",
    "for record in input_list:\n",
    "    digits = [char for char in record if char.isdigit()]\n",
    "    \n",
    "    if len(digits) == 1:\n",
    "        digits = digits * 2\n",
    "    else:\n",
    "        digits = [digits[0]] + [digits[-1]]\n",
    "        \n",
    "    number_str = ''. join(digits)\n",
    "    number = int(number_str)\n",
    "    \n",
    "    all_numbers.append(number)"
   ]
  },
  {
   "cell_type": "code",
   "execution_count": 11,
   "id": "0ead4377-f952-4829-9688-dfac1c9800e2",
   "metadata": {},
   "outputs": [
    {
     "data": {
      "text/plain": [
       "55172"
      ]
     },
     "execution_count": 11,
     "metadata": {},
     "output_type": "execute_result"
    }
   ],
   "source": [
    "solution = sum(all_numbers)\n",
    "solution"
   ]
  },
  {
   "cell_type": "markdown",
   "id": "478709ea-b140-4152-8a59-92f16d5dfd11",
   "metadata": {},
   "source": [
    "### Part 2"
   ]
  },
  {
   "cell_type": "markdown",
   "id": "e200b093-1bb9-46b6-9a69-2b98b0c37e93",
   "metadata": {},
   "source": [
    "Note: the right calibration values for string \"eighthree\" is 83 and for \"sevenine\" is 79."
   ]
  },
  {
   "cell_type": "code",
   "execution_count": 61,
   "id": "9908f94a-07eb-45a1-aabe-266cf844e74a",
   "metadata": {},
   "outputs": [],
   "source": [
    "digit_list = {'one': '1', 'two': '2', 'three': '3', 'four': '4', 'five': '5', 'six': '6', 'seven': '7', 'eight': '8', 'nine': '9'}"
   ]
  },
  {
   "cell_type": "code",
   "execution_count": 63,
   "id": "5a7f9571-2fa8-4f30-99c5-7a784175f112",
   "metadata": {},
   "outputs": [],
   "source": [
    "all_new_numbers = []\n",
    "\n",
    "for record in input_list:\n",
    "    \n",
    "    digits = []\n",
    "    \n",
    "    for i in range(len(record)):\n",
    "        for j in range(i+1,len(record)+1):\n",
    "            substr = record[i:j]\n",
    "            if substr in digit_list.keys():\n",
    "                digits.append(digit_list[substr])\n",
    "            if substr in digit_list.values():\n",
    "                digits.append(substr)\n",
    "            \n",
    "    if len(digits) == 1:\n",
    "        digits = digits * 2\n",
    "    else:\n",
    "        digits = [digits[0]] + [digits[-1]]\n",
    "        \n",
    "    number_str = ''. join(digits)\n",
    "    number = int(number_str)\n",
    "    \n",
    "    all_new_numbers.append(number)"
   ]
  },
  {
   "cell_type": "code",
   "execution_count": 64,
   "id": "d66871e5-39c3-4fac-8f18-39a3bcbb5437",
   "metadata": {},
   "outputs": [
    {
     "data": {
      "text/plain": [
       "54925"
      ]
     },
     "execution_count": 64,
     "metadata": {},
     "output_type": "execute_result"
    }
   ],
   "source": [
    "new_solution = sum(all_new_numbers)\n",
    "new_solution"
   ]
  },
  {
   "cell_type": "code",
   "execution_count": null,
   "id": "1078c4ca-930a-4adf-b278-f2af74b9dc4f",
   "metadata": {},
   "outputs": [],
   "source": [
    "### Working "
   ]
  },
  {
   "cell_type": "code",
   "execution_count": 46,
   "id": "62020dab-040d-4792-ab04-34b741fccb1f",
   "metadata": {},
   "outputs": [],
   "source": [
    "a = []\n",
    "\n",
    "x = 'karinaiandrzej'\n",
    "for i in range(len(x)):\n",
    "    for j in range(i+1,len(x)+1):\n",
    "        a.append(x[i:j])"
   ]
  },
  {
   "cell_type": "code",
   "execution_count": 47,
   "id": "7922402c-f435-4986-a17a-2eae50fe4fc9",
   "metadata": {},
   "outputs": [
    {
     "data": {
      "text/plain": [
       "['k',\n",
       " 'ka',\n",
       " 'kar',\n",
       " 'kari',\n",
       " 'karin',\n",
       " 'karina',\n",
       " 'karinai',\n",
       " 'karinaia',\n",
       " 'karinaian',\n",
       " 'karinaiand',\n",
       " 'karinaiandr',\n",
       " 'karinaiandrz',\n",
       " 'karinaiandrze',\n",
       " 'karinaiandrzej',\n",
       " 'a',\n",
       " 'ar',\n",
       " 'ari',\n",
       " 'arin',\n",
       " 'arina',\n",
       " 'arinai',\n",
       " 'arinaia',\n",
       " 'arinaian',\n",
       " 'arinaiand',\n",
       " 'arinaiandr',\n",
       " 'arinaiandrz',\n",
       " 'arinaiandrze',\n",
       " 'arinaiandrzej',\n",
       " 'r',\n",
       " 'ri',\n",
       " 'rin',\n",
       " 'rina',\n",
       " 'rinai',\n",
       " 'rinaia',\n",
       " 'rinaian',\n",
       " 'rinaiand',\n",
       " 'rinaiandr',\n",
       " 'rinaiandrz',\n",
       " 'rinaiandrze',\n",
       " 'rinaiandrzej',\n",
       " 'i',\n",
       " 'in',\n",
       " 'ina',\n",
       " 'inai',\n",
       " 'inaia',\n",
       " 'inaian',\n",
       " 'inaiand',\n",
       " 'inaiandr',\n",
       " 'inaiandrz',\n",
       " 'inaiandrze',\n",
       " 'inaiandrzej',\n",
       " 'n',\n",
       " 'na',\n",
       " 'nai',\n",
       " 'naia',\n",
       " 'naian',\n",
       " 'naiand',\n",
       " 'naiandr',\n",
       " 'naiandrz',\n",
       " 'naiandrze',\n",
       " 'naiandrzej',\n",
       " 'a',\n",
       " 'ai',\n",
       " 'aia',\n",
       " 'aian',\n",
       " 'aiand',\n",
       " 'aiandr',\n",
       " 'aiandrz',\n",
       " 'aiandrze',\n",
       " 'aiandrzej',\n",
       " 'i',\n",
       " 'ia',\n",
       " 'ian',\n",
       " 'iand',\n",
       " 'iandr',\n",
       " 'iandrz',\n",
       " 'iandrze',\n",
       " 'iandrzej',\n",
       " 'a',\n",
       " 'an',\n",
       " 'and',\n",
       " 'andr',\n",
       " 'andrz',\n",
       " 'andrze',\n",
       " 'andrzej',\n",
       " 'n',\n",
       " 'nd',\n",
       " 'ndr',\n",
       " 'ndrz',\n",
       " 'ndrze',\n",
       " 'ndrzej',\n",
       " 'd',\n",
       " 'dr',\n",
       " 'drz',\n",
       " 'drze',\n",
       " 'drzej',\n",
       " 'r',\n",
       " 'rz',\n",
       " 'rze',\n",
       " 'rzej',\n",
       " 'z',\n",
       " 'ze',\n",
       " 'zej',\n",
       " 'e',\n",
       " 'ej',\n",
       " 'j']"
      ]
     },
     "execution_count": 47,
     "metadata": {},
     "output_type": "execute_result"
    }
   ],
   "source": [
    "a"
   ]
  },
  {
   "cell_type": "code",
   "execution_count": null,
   "id": "276df371-fa19-406b-82c0-f9953684a94e",
   "metadata": {},
   "outputs": [],
   "source": []
  }
 ],
 "metadata": {
  "kernelspec": {
   "display_name": "Python 3 (ipykernel)",
   "language": "python",
   "name": "python3"
  },
  "language_info": {
   "codemirror_mode": {
    "name": "ipython",
    "version": 3
   },
   "file_extension": ".py",
   "mimetype": "text/x-python",
   "name": "python",
   "nbconvert_exporter": "python",
   "pygments_lexer": "ipython3",
   "version": "3.10.9"
  }
 },
 "nbformat": 4,
 "nbformat_minor": 5
}
