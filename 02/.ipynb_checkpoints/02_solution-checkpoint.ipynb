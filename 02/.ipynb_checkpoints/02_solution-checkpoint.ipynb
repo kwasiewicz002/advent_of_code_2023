{
 "cells": [
  {
   "cell_type": "markdown",
   "id": "731c4406-1865-4979-8cf0-dc16632f4e71",
   "metadata": {},
   "source": [
    "### Part 1"
   ]
  },
  {
   "cell_type": "code",
   "execution_count": 13,
   "id": "c7312c0b-c677-45a6-aa89-8e80bb789f79",
   "metadata": {},
   "outputs": [],
   "source": [
    "import re\n",
    "from functools import reduce"
   ]
  },
  {
   "cell_type": "code",
   "execution_count": 2,
   "id": "d3eaf238-02a0-4587-9ea7-51c73cb30c5a",
   "metadata": {},
   "outputs": [],
   "source": [
    "# read the input\n",
    "input_data = open(\"02_input.txt\", \"r\").read()\n",
    "input_list = input_data.split(\"\\n\") "
   ]
  },
  {
   "cell_type": "code",
   "execution_count": 3,
   "id": "82ecf532-4de6-49fe-a1d2-26d549ed2f6f",
   "metadata": {},
   "outputs": [],
   "source": [
    "all_games = {}\n",
    "for record in input_list:\n",
    "    game_id = record.split(':')[0].split(' ')[1]\n",
    "    sets = record.split(':')[1].replace(' ', '').split(';')\n",
    "    \n",
    "    game_content = []\n",
    "    for draw in sets:\n",
    "        draw_content = {}\n",
    "        for i in draw.split(','):\n",
    "            _, n, color = re.split('(\\d+)', i)\n",
    "            draw_content[color] = int(n)\n",
    "        game_content.append(dict(draw_content))\n",
    "    \n",
    "    all_games[int(game_id)] = game_content"
   ]
  },
  {
   "cell_type": "code",
   "execution_count": 4,
   "id": "2fd40424-4a2b-4891-a1c9-524d92970f15",
   "metadata": {},
   "outputs": [],
   "source": [
    "possible_games = []\n",
    "for game_id, game_content in all_games.items():\n",
    "    draw_status = []\n",
    "    for draw in game_content:\n",
    "        if (draw.get('red', 0) <= 12) and (draw.get('green', 0) <= 13) and (draw.get('blue', 0) <= 14):\n",
    "            draw_status.append(True)\n",
    "        else:\n",
    "            draw_status.append(False)\n",
    "            \n",
    "    if all(single_status is True for single_status in draw_status):\n",
    "        possible_games.append(game_id)     "
   ]
  },
  {
   "cell_type": "code",
   "execution_count": 5,
   "id": "703788f5-2ee1-4627-8571-e28bcfd2f777",
   "metadata": {},
   "outputs": [],
   "source": [
    "solution = sum(possible_games)"
   ]
  },
  {
   "cell_type": "code",
   "execution_count": 6,
   "id": "be13a82f-8b0e-446c-9668-a32152d1c87b",
   "metadata": {},
   "outputs": [
    {
     "data": {
      "text/plain": [
       "2237"
      ]
     },
     "execution_count": 6,
     "metadata": {},
     "output_type": "execute_result"
    }
   ],
   "source": [
    "solution"
   ]
  },
  {
   "cell_type": "markdown",
   "id": "eb7fd030-54bd-423b-8425-970dc624a452",
   "metadata": {},
   "source": [
    "### Part 2"
   ]
  },
  {
   "cell_type": "code",
   "execution_count": 17,
   "id": "cbcc2e34-0535-4ea3-b8f2-4ede9431f94a",
   "metadata": {},
   "outputs": [],
   "source": [
    "input_data = open(\"02_input.txt\", \"r\").read()\n",
    "input_list = input_data.split(\"\\n\") "
   ]
  },
  {
   "cell_type": "code",
   "execution_count": 18,
   "id": "67e082ea-48a1-4db2-b159-60a088168679",
   "metadata": {},
   "outputs": [],
   "source": [
    "all_games = {}\n",
    "for record in input_list:\n",
    "    game_id = record.split(':')[0].split(' ')[1]\n",
    "    sets = record.split(':')[1].replace(' ', '').split(';')\n",
    "    \n",
    "    game_content = []\n",
    "    for draw in sets:\n",
    "        draw_content = {}\n",
    "        for i in draw.split(','):\n",
    "            _, n, color = re.split('(\\d+)', i)\n",
    "            draw_content[color] = int(n)\n",
    "        game_content.append(dict(draw_content))\n",
    "    \n",
    "    all_games[int(game_id)] = game_content"
   ]
  },
  {
   "cell_type": "code",
   "execution_count": 19,
   "id": "947964c6-9199-49c2-b269-ddaf56350c77",
   "metadata": {},
   "outputs": [],
   "source": [
    "powers = []\n",
    "for game_id, game_content in all_games.items():\n",
    "    draw_min = {'red': 0, 'green': 0, 'blue': 0}\n",
    "    for draw in game_content:\n",
    "        if draw.get('red', 0) > draw_min['red']:\n",
    "            draw_min['red'] = draw.get('red', 0)\n",
    "        if draw.get('green', 0) > draw_min['green']:\n",
    "            draw_min['green'] = draw.get('green', 0)\n",
    "        if draw.get('blue', 0) > draw_min['blue']:\n",
    "            draw_min['blue'] = draw.get('blue', 0)\n",
    "            \n",
    "    draw_powers = [n for color, n in draw_min.items()]\n",
    "    power = reduce(lambda x, y: x*y, draw_powers)\n",
    "    powers.append(power)"
   ]
  },
  {
   "cell_type": "code",
   "execution_count": 21,
   "id": "ddc8a21c-e3e0-40e5-8162-a10b0c5dd969",
   "metadata": {},
   "outputs": [
    {
     "data": {
      "text/plain": [
       "66681"
      ]
     },
     "execution_count": 21,
     "metadata": {},
     "output_type": "execute_result"
    }
   ],
   "source": [
    "new_solution = sum(powers)\n",
    "new_solution"
   ]
  },
  {
   "cell_type": "code",
   "execution_count": null,
   "id": "1b1a81e3-dbd1-410a-8d66-829ee60fc6a2",
   "metadata": {},
   "outputs": [],
   "source": []
  }
 ],
 "metadata": {
  "kernelspec": {
   "display_name": "Python 3 (ipykernel)",
   "language": "python",
   "name": "python3"
  },
  "language_info": {
   "codemirror_mode": {
    "name": "ipython",
    "version": 3
   },
   "file_extension": ".py",
   "mimetype": "text/x-python",
   "name": "python",
   "nbconvert_exporter": "python",
   "pygments_lexer": "ipython3",
   "version": "3.10.9"
  }
 },
 "nbformat": 4,
 "nbformat_minor": 5
}
