{
 "cells": [
  {
   "cell_type": "markdown",
   "id": "6d2552f3-1f6a-415c-b441-a0c9bd42ba69",
   "metadata": {},
   "source": [
    "### Part 1"
   ]
  },
  {
   "cell_type": "code",
   "execution_count": 1,
   "id": "8a38d57a-b8d5-4e26-af3f-2e3a203f7efe",
   "metadata": {},
   "outputs": [],
   "source": [
    "import re\n",
    "from collections import defaultdict"
   ]
  },
  {
   "cell_type": "code",
   "execution_count": 2,
   "id": "ed5304e6-6cb3-4a2f-95a6-32db7ba0df53",
   "metadata": {},
   "outputs": [],
   "source": [
    "# read the input\n",
    "input_data = open(\"03_input.txt\", \"r\").read()\n",
    "input_list = input_data.split(\"\\n\") "
   ]
  },
  {
   "cell_type": "code",
   "execution_count": 4,
   "id": "74a8bbc0-4762-4e07-8b42-91e7e00f3744",
   "metadata": {},
   "outputs": [],
   "source": [
    "symbols = {}\n",
    "for i, schema in enumerate(input_list):\n",
    "    symbols_positions = [i for i, elem in enumerate(schema) if elem not in ('0','1','2','3','4','5','6','7','8','9','.')]\n",
    "    symbols[i] = symbols_positions"
   ]
  },
  {
   "cell_type": "code",
   "execution_count": 16,
   "id": "48634e40-5baa-463f-af53-3ff8003c8550",
   "metadata": {},
   "outputs": [],
   "source": [
    "digits = defaultdict(dict)\n",
    "for i, schema in enumerate(input_list):\n",
    "    numbers = []\n",
    "    for match in re.finditer(r'\\d+', schema):\n",
    "        number = match.group(0)\n",
    "        start_position, end_position = match.span()\n",
    "        numbers.append((number, start_position, end_position-1))\n",
    "    digits[i] = numbers\n",
    "        \n",
    "digits = dict(digits)"
   ]
  },
  {
   "cell_type": "code",
   "execution_count": 20,
   "id": "36b9a9ca-275c-4f66-ba92-29ea43495b56",
   "metadata": {
    "tags": []
   },
   "outputs": [],
   "source": [
    "engine_parts = []\n",
    "for i, numbers in digits.items():\n",
    "    i_engine_parts=[]\n",
    "    for number, span_start, span_end in numbers:\n",
    "        is_part = False\n",
    "        \n",
    "        # print(i, number, span_start, span_end)\n",
    "        \n",
    "        # check symbols in the previous row\n",
    "        if i > 0:\n",
    "            for symbol in symbols[i-1]:\n",
    "                if (symbol >= span_start-1) and (symbol <= span_end+1):\n",
    "                    # print(symbol, 'i-1')\n",
    "                    is_part = True\n",
    "                    \n",
    "        # check symbols in the same row\n",
    "        for symbol in symbols[i]:\n",
    "            if (symbol == span_start-1) or (symbol == span_end+1):\n",
    "                # print(symbol, 'i')\n",
    "                is_part = True\n",
    "                \n",
    "        # check symbols in the next row\n",
    "        if i < max(symbols.keys()):\n",
    "            for symbol in symbols[i+1]:\n",
    "                if (symbol >= span_start-1) and (symbol <= span_end+1):\n",
    "                    # print(symbol, 'i+1')\n",
    "                    is_part = True\n",
    "                    \n",
    "        # conclusion\n",
    "        if is_part:\n",
    "            engine_parts.append(int(number))"
   ]
  },
  {
   "cell_type": "code",
   "execution_count": 34,
   "id": "3249db7a-0956-42c2-a2a6-1a8a71739b03",
   "metadata": {},
   "outputs": [
    {
     "data": {
      "text/plain": [
       "540025"
      ]
     },
     "execution_count": 34,
     "metadata": {},
     "output_type": "execute_result"
    }
   ],
   "source": [
    "solution = sum(engine_parts)\n",
    "solution"
   ]
  },
  {
   "cell_type": "markdown",
   "id": "01832bfc-33b3-4965-b9bd-3e310af2f890",
   "metadata": {},
   "source": [
    "### Part 2"
   ]
  },
  {
   "cell_type": "code",
   "execution_count": 36,
   "id": "3ac4e0d2-150c-46b5-9b4b-a92535fda833",
   "metadata": {},
   "outputs": [],
   "source": [
    "input_data = open(\"03_input.txt\", \"r\").read()\n",
    "input_list = input_data.split(\"\\n\") "
   ]
  },
  {
   "cell_type": "code",
   "execution_count": 37,
   "id": "35cff23d-8db8-4859-8666-8fb67d011221",
   "metadata": {},
   "outputs": [],
   "source": [
    "all_gears = {}\n",
    "for i, schema in enumerate(input_list):\n",
    "    gears_positions = [i for i, elem in enumerate(schema) if elem == '*']\n",
    "    all_gears[i] = gears_positions"
   ]
  },
  {
   "cell_type": "code",
   "execution_count": 38,
   "id": "ee0daffb-1759-4126-979e-71065d1370e4",
   "metadata": {},
   "outputs": [],
   "source": [
    "digits = defaultdict(dict)\n",
    "for i, schema in enumerate(input_list):\n",
    "    numbers = []\n",
    "    for match in re.finditer(r'\\d+', schema):\n",
    "        number = match.group(0)\n",
    "        start_position, end_position = match.span()\n",
    "        numbers.append((number, start_position, end_position-1))\n",
    "    digits[i] = numbers\n",
    "        \n",
    "digits = dict(digits)"
   ]
  },
  {
   "cell_type": "code",
   "execution_count": 39,
   "id": "a7c1a383-b2ba-405b-affa-a869e576c460",
   "metadata": {},
   "outputs": [],
   "source": [
    "gear_ratios = []\n",
    "for i, gears in all_gears.items():\n",
    "    for gear in gears:\n",
    "        adjacent_numbers = []\n",
    "        \n",
    "        # check numbers in the previous row\n",
    "        if i > 0:\n",
    "            for digit, span_start, span_end in digits[i-1]:\n",
    "                if (gear >= span_start-1) and (gear <= span_end+1):\n",
    "                    adjacent_numbers.append(int(digit))\n",
    "                    \n",
    "        # check numbers in the same row\n",
    "        for digit, span_start, span_end in digits[i]:\n",
    "                if (gear == span_start-1) or (gear == span_end+1):\n",
    "                    adjacent_numbers.append(int(digit))\n",
    "                    \n",
    "        # check numbers in the next row\n",
    "        if i < max(digits.keys()):\n",
    "            for digit, span_start, span_end in digits[i+1]:\n",
    "                if (gear >= span_start-1) and (gear <= span_end+1):\n",
    "                    adjacent_numbers.append(int(digit))\n",
    "                    \n",
    "        if len(adjacent_numbers) == 2:\n",
    "            gear_ratio = adjacent_numbers[0]*adjacent_numbers[1]\n",
    "            gear_ratios.append(gear_ratio)"
   ]
  },
  {
   "cell_type": "code",
   "execution_count": 40,
   "id": "2bc565c1-9000-410f-b996-33bf39d43149",
   "metadata": {},
   "outputs": [
    {
     "data": {
      "text/plain": [
       "84584891"
      ]
     },
     "execution_count": 40,
     "metadata": {},
     "output_type": "execute_result"
    }
   ],
   "source": [
    "new_solution = sum(gear_ratios)\n",
    "new_solution"
   ]
  },
  {
   "cell_type": "code",
   "execution_count": null,
   "id": "df1f1789-f654-48ef-9fce-2adc34ff01f6",
   "metadata": {},
   "outputs": [],
   "source": []
  }
 ],
 "metadata": {
  "kernelspec": {
   "display_name": "Python 3 (ipykernel)",
   "language": "python",
   "name": "python3"
  },
  "language_info": {
   "codemirror_mode": {
    "name": "ipython",
    "version": 3
   },
   "file_extension": ".py",
   "mimetype": "text/x-python",
   "name": "python",
   "nbconvert_exporter": "python",
   "pygments_lexer": "ipython3",
   "version": "3.10.9"
  }
 },
 "nbformat": 4,
 "nbformat_minor": 5
}
