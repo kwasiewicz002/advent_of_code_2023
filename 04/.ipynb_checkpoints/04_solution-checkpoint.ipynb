{
 "cells": [
  {
   "cell_type": "markdown",
   "id": "e3abb373-506f-4566-b96d-02aab25aeb4d",
   "metadata": {},
   "source": [
    "### Part 1"
   ]
  },
  {
   "cell_type": "code",
   "execution_count": 40,
   "id": "cd397fe8-a954-4b8c-a77f-7a27f999d9c6",
   "metadata": {},
   "outputs": [],
   "source": [
    "# read the input\n",
    "input_data = open(\"04_input.txt\", \"r\").read()\n",
    "input_list = input_data.split(\"\\n\") "
   ]
  },
  {
   "cell_type": "code",
   "execution_count": 41,
   "id": "5193bea7-750c-4817-a042-d2833e934204",
   "metadata": {},
   "outputs": [],
   "source": [
    "points = []\n",
    "for card in input_list:\n",
    "    winning_numbers_str, numbers_have_str = card.split('|')\n",
    "    winning_numbers_str = winning_numbers_str.split(':')[1]\n",
    "    winning_numbers_str = winning_numbers_str.split(' ')\n",
    "    numbers_have_str = numbers_have_str.split(' ')\n",
    "    \n",
    "    winning_numbers = [int(n) for n in winning_numbers_str if len(n)>0]\n",
    "    numbers_have = [int(n) for n in numbers_have_str if len(n)>0]\n",
    "    \n",
    "    matching_numbers = list(set(winning_numbers).intersection(set(numbers_have)))\n",
    "    \n",
    "    if len(matching_numbers) > 0:\n",
    "        points_won = 2 ** (len(matching_numbers)-1)\n",
    "        points.append(points_won)"
   ]
  },
  {
   "cell_type": "code",
   "execution_count": 42,
   "id": "e5cafa72-12d8-4115-9b6c-950f230b9c2b",
   "metadata": {},
   "outputs": [
    {
     "data": {
      "text/plain": [
       "18653"
      ]
     },
     "execution_count": 42,
     "metadata": {},
     "output_type": "execute_result"
    }
   ],
   "source": [
    "solution = sum(points)\n",
    "solution"
   ]
  },
  {
   "cell_type": "markdown",
   "id": "ecb02c90-b6f9-40a6-a78a-a148a2613b8c",
   "metadata": {},
   "source": [
    "### Part 2"
   ]
  },
  {
   "cell_type": "code",
   "execution_count": 80,
   "id": "ca7c17e8-b6fe-47d4-9984-254b6400a5ee",
   "metadata": {},
   "outputs": [],
   "source": [
    "from collections import defaultdict"
   ]
  },
  {
   "cell_type": "code",
   "execution_count": 86,
   "id": "47f800e2-b883-4100-8c21-11b63e13e3e9",
   "metadata": {},
   "outputs": [],
   "source": [
    "input_data = open(\"04_input.txt\", \"r\").read()\n",
    "input_list = input_data.split(\"\\n\") "
   ]
  },
  {
   "cell_type": "code",
   "execution_count": 87,
   "id": "39f5e785-153c-4d5b-846a-602cf278cf2e",
   "metadata": {},
   "outputs": [],
   "source": [
    "cards_won = defaultdict(lambda: 0)\n",
    "\n",
    "for i, card in enumerate(input_list):\n",
    "    # i+1 is the current card\n",
    "    card_id = i+1\n",
    "    \n",
    "    winning_numbers_str, numbers_have_str = card.split('|')\n",
    "    winning_numbers_str = winning_numbers_str.split(':')[1]\n",
    "    winning_numbers_str = winning_numbers_str.split(' ')\n",
    "    numbers_have_str = numbers_have_str.split(' ')\n",
    "    \n",
    "    winning_numbers = [int(n) for n in winning_numbers_str if len(n)>0]\n",
    "    numbers_have = [int(n) for n in numbers_have_str if len(n)>0]\n",
    "    \n",
    "    matching_numbers = list(set(winning_numbers).intersection(set(numbers_have)))\n",
    "    matches = range(len(matching_numbers))\n",
    "    \n",
    "    # original\n",
    "    cards_won[card_id] += 1\n",
    "    # print(dict(cards_won))\n",
    "    \n",
    "    # print(len(matches))\n",
    "    \n",
    "    # copies\n",
    "    for copy_i in matches:\n",
    "        cards_won[card_id+copy_i+1] += cards_won[card_id]\n",
    "        # print(dict(cards_won))\n",
    "        \n",
    "    # print(' ')\n",
    "        \n",
    "cards_won = dict(cards_won)"
   ]
  },
  {
   "cell_type": "code",
   "execution_count": 89,
   "id": "3819cde4-b8d3-4092-bc60-76c8f8206f92",
   "metadata": {},
   "outputs": [
    {
     "data": {
      "text/plain": [
       "5921508"
      ]
     },
     "execution_count": 89,
     "metadata": {},
     "output_type": "execute_result"
    }
   ],
   "source": [
    "new_solution = sum(cards_won.values())\n",
    "new_solution"
   ]
  },
  {
   "cell_type": "code",
   "execution_count": null,
   "id": "dd9830c4-67bd-4fbb-87d9-2e9696087edc",
   "metadata": {},
   "outputs": [],
   "source": []
  }
 ],
 "metadata": {
  "kernelspec": {
   "display_name": "Python 3 (ipykernel)",
   "language": "python",
   "name": "python3"
  },
  "language_info": {
   "codemirror_mode": {
    "name": "ipython",
    "version": 3
   },
   "file_extension": ".py",
   "mimetype": "text/x-python",
   "name": "python",
   "nbconvert_exporter": "python",
   "pygments_lexer": "ipython3",
   "version": "3.10.9"
  }
 },
 "nbformat": 4,
 "nbformat_minor": 5
}
