{
 "cells": [
  {
   "cell_type": "markdown",
   "id": "a77ecfcd-6a7f-41c1-8514-251758ec2b33",
   "metadata": {},
   "source": [
    "### Part 1"
   ]
  },
  {
   "cell_type": "code",
   "execution_count": null,
   "id": "6455e14c-df29-4516-9e29-23e7b743f0a0",
   "metadata": {},
   "outputs": [],
   "source": [
    "from collections import Counter"
   ]
  },
  {
   "cell_type": "code",
   "execution_count": null,
   "id": "6d305f97-11c2-412c-8206-4c37c677ec42",
   "metadata": {},
   "outputs": [],
   "source": [
    "# read the input\n",
    "input_data = open(\"07_input.txt\", \"r\").read()\n",
    "input_list = input_data.split(\"\\n\") "
   ]
  },
  {
   "cell_type": "code",
   "execution_count": null,
   "id": "397f73dd-31fb-410d-8d9a-8d436ed3a2f8",
   "metadata": {},
   "outputs": [],
   "source": [
    "labels = ['A', 'K', 'Q', 'J', 'T', '9', '8', '7', '6', '5', '4', '3', '2']\n",
    "labels.reverse()"
   ]
  },
  {
   "cell_type": "code",
   "execution_count": null,
   "id": "93bd2977-e354-4e8e-b583-f6e3c7106a83",
   "metadata": {
    "tags": []
   },
   "outputs": [],
   "source": [
    "class Hand(object):\n",
    "\n",
    "    def __init__(self, hand):\n",
    "        self.hand = hand\n",
    "        self.one, self.two, self.three, self.four, self.five = list(self.hand)\n",
    "\n",
    "    def __lt__(self, other):\n",
    "        return (labels.index(self.one) < labels.index(other.one)) or (labels.index(self.one) == labels.index(other.one) and labels.index(self.two) < labels.index(other.two)) or (labels.index(self.one) == labels.index(other.one) and labels.index(self.two) == labels.index(other.two) and labels.index(self.three) < labels.index(other.three)) or (labels.index(self.one) == labels.index(other.one) and labels.index(self.two) == labels.index(other.two) and labels.index(self.three) == labels.index(other.three) and labels.index(self.four) < labels.index(other.four)) or (labels.index(self.one) == labels.index(other.one) and labels.index(self.two) == labels.index(other.two) and labels.index(self.three) == labels.index(other.three) and labels.index(self.four) == labels.index(other.four) and labels.index(self.five) < labels.index(other.five))\n",
    "    \n",
    "    def __eq__(self, other):\n",
    "        return labels.index(self.one) == labels.index(other.one) and labels.index(self.two) == labels.index(other.two) and labels.index(self.three) == labels.index(other.three) and labels.index(self.four) == labels.index(other.four) and labels.index(self.five) < labels.index(other.five)\n",
    "    "
   ]
  },
  {
   "cell_type": "code",
   "execution_count": null,
   "id": "dc3ec0bc-768d-4a88-ba43-c57076c37243",
   "metadata": {},
   "outputs": [],
   "source": [
    "fives = []\n",
    "fours = []\n",
    "fulls = []\n",
    "threes = []\n",
    "two_pairs = []\n",
    "one_pairs = []\n",
    "high_cards = []\n",
    "\n",
    "for record in input_list:\n",
    "    hand, bid = record.split(' ')\n",
    "\n",
    "    # five of a kind\n",
    "    if max(Counter(hand).values()) == 5:\n",
    "        fives.append(hand)\n",
    "    \n",
    "    # four of a kind\n",
    "    elif max(Counter(hand).values()) == 4:\n",
    "        fours.append(hand)\n",
    "    \n",
    "    # full house\n",
    "    elif (max(Counter(hand).values()) == 3) and (min(Counter(hand).values()) == 2):\n",
    "        fulls.append(hand)\n",
    "        \n",
    "    # three of a kind\n",
    "    elif max(Counter(hand).values()) == 3:\n",
    "        threes.append(hand)\n",
    "        \n",
    "    # two pairs\n",
    "    elif Counter(Counter(hand).values())[2] == 2:\n",
    "        two_pairs.append(hand)\n",
    "        \n",
    "    # one pair\n",
    "    elif Counter(Counter(hand).values())[2] == 1:\n",
    "        one_pairs.append(hand)\n",
    "        \n",
    "    else:\n",
    "        high_cards.append(hand)"
   ]
  },
  {
   "cell_type": "code",
   "execution_count": null,
   "id": "0f83623b-2ac9-42a9-af81-e69200fd37f3",
   "metadata": {},
   "outputs": [],
   "source": [
    "fives = sorted([Hand(hand) for hand in fives])\n",
    "fours = sorted([Hand(hand) for hand in fours])\n",
    "fulls = sorted([Hand(hand) for hand in fulls])\n",
    "threes = sorted([Hand(hand) for hand in threes])\n",
    "two_pairs = sorted([Hand(hand) for hand in two_pairs])\n",
    "one_pairs = sorted([Hand(hand) for hand in one_pairs])\n",
    "high_cards = sorted([Hand(hand) for hand in high_cards])"
   ]
  },
  {
   "cell_type": "code",
   "execution_count": null,
   "id": "d6464ff4-2422-43d0-af79-090df0cab4c3",
   "metadata": {},
   "outputs": [],
   "source": [
    "fives = [hand.hand for hand in fives]\n",
    "fours = [hand.hand for hand in fours]\n",
    "fulls = [hand.hand for hand in fulls]\n",
    "threes = [hand.hand for hand in threes]\n",
    "two_pairs = [hand.hand for hand in two_pairs]\n",
    "one_pairs = [hand.hand for hand in one_pairs]\n",
    "high_cards = [hand.hand for hand in high_cards]"
   ]
  },
  {
   "cell_type": "code",
   "execution_count": null,
   "id": "0cf669e2-2615-408e-957d-ddee8cfae77a",
   "metadata": {},
   "outputs": [],
   "source": [
    "all_hands = high_cards + one_pairs + two_pairs + threes + fulls + fours + fives"
   ]
  },
  {
   "cell_type": "code",
   "execution_count": null,
   "id": "b73aed0a-b6b1-49aa-aa2e-5ee1b3cc2094",
   "metadata": {},
   "outputs": [],
   "source": [
    "winnings = []\n",
    "for i, hand in enumerate(all_hands):\n",
    "    bid = int([x.split(' ')[1] for x in input_list if x.split(' ')[0] == hand][0])\n",
    "    winning = (i+1)*bid\n",
    "    winnings.append(winning)"
   ]
  },
  {
   "cell_type": "code",
   "execution_count": null,
   "id": "19cba755-c164-4bd9-85b4-6a8b28dfb138",
   "metadata": {},
   "outputs": [],
   "source": [
    "solution = sum(winnings)\n",
    "solution"
   ]
  },
  {
   "cell_type": "markdown",
   "id": "6094c178-a649-4014-b880-9948fe2283ba",
   "metadata": {},
   "source": [
    "### Part 2"
   ]
  },
  {
   "cell_type": "code",
   "execution_count": 1,
   "id": "da21cda6-4b5f-41f9-a9cd-44dcf545bff7",
   "metadata": {},
   "outputs": [],
   "source": [
    "from collections import Counter"
   ]
  },
  {
   "cell_type": "code",
   "execution_count": 2,
   "id": "f3bd7467-e5e1-457d-bc2e-ca517970e5c6",
   "metadata": {},
   "outputs": [],
   "source": [
    "# read the input\n",
    "input_data = open(\"07_input.txt\", \"r\").read()\n",
    "input_list = input_data.split(\"\\n\") "
   ]
  },
  {
   "cell_type": "code",
   "execution_count": 3,
   "id": "93cdea57-107e-49f3-9215-21f8f8f00765",
   "metadata": {},
   "outputs": [],
   "source": [
    "labels = ['A', 'K', 'Q', 'T', '9', '8', '7', '6', '5', '4', '3', '2', 'J']\n",
    "labels.reverse()"
   ]
  },
  {
   "cell_type": "code",
   "execution_count": 4,
   "id": "1c6de769-3f92-48f5-b8c0-010dfcaa90cb",
   "metadata": {},
   "outputs": [],
   "source": [
    "class Hand(object):\n",
    "\n",
    "    def __init__(self, hand):\n",
    "        self.hand = hand\n",
    "        self.one, self.two, self.three, self.four, self.five = list(self.hand)\n",
    "\n",
    "    def __lt__(self, other):\n",
    "        return (labels.index(self.one) < labels.index(other.one)) or (labels.index(self.one) == labels.index(other.one) and labels.index(self.two) < labels.index(other.two)) or (labels.index(self.one) == labels.index(other.one) and labels.index(self.two) == labels.index(other.two) and labels.index(self.three) < labels.index(other.three)) or (labels.index(self.one) == labels.index(other.one) and labels.index(self.two) == labels.index(other.two) and labels.index(self.three) == labels.index(other.three) and labels.index(self.four) < labels.index(other.four)) or (labels.index(self.one) == labels.index(other.one) and labels.index(self.two) == labels.index(other.two) and labels.index(self.three) == labels.index(other.three) and labels.index(self.four) == labels.index(other.four) and labels.index(self.five) < labels.index(other.five))\n",
    "    \n",
    "    def __eq__(self, other):\n",
    "        return labels.index(self.one) == labels.index(other.one) and labels.index(self.two) == labels.index(other.two) and labels.index(self.three) == labels.index(other.three) and labels.index(self.four) == labels.index(other.four) and labels.index(self.five) < labels.index(other.five)\n",
    "    "
   ]
  },
  {
   "cell_type": "code",
   "execution_count": 5,
   "id": "027f7515-e5da-4ec5-be1c-742c41a0eace",
   "metadata": {},
   "outputs": [],
   "source": [
    "fives = []\n",
    "fours = []\n",
    "fulls = []\n",
    "threes = []\n",
    "two_pairs = []\n",
    "one_pairs = []\n",
    "high_cards = []\n",
    "\n",
    "for record in input_list:\n",
    "    hand, bid = record.split(' ')\n",
    "    \n",
    "    \n",
    "\n",
    "    # five of a kind\n",
    "    if Counter(hand)['J'] == 5:\n",
    "        fives.append(hand)\n",
    "        \n",
    "    elif max(Counter(hand.replace('J','')).values()) + Counter(hand)['J'] == 5:\n",
    "        fives.append(hand)\n",
    "    \n",
    "    # four of a kind\n",
    "    elif max(Counter(hand.replace('J','')).values()) + Counter(hand)['J'] == 4:\n",
    "        fours.append(hand)\n",
    "    \n",
    "    # full house\n",
    "    elif (max(Counter(hand.replace('J','')).values()) + Counter(hand)['J'] == 3) and (min(Counter(hand.replace('J','')).values()) == 2):\n",
    "        fulls.append(hand)\n",
    "        \n",
    "    # three of a kind\n",
    "    elif max(Counter(hand.replace('J','')).values()) + Counter(hand)['J'] == 3:\n",
    "        threes.append(hand)\n",
    "        \n",
    "    # two pairs\n",
    "    elif (Counter(Counter(hand).values())[2] == 2) and (Counter(hand)['J'] == 0):\n",
    "        two_pairs.append(hand)\n",
    "        \n",
    "    # one pair\n",
    "    elif (Counter(Counter(hand).values())[2] == 1 and (Counter(hand)['J'] == 0)) or ((max(Counter(hand.replace('J','')).values()) == 1) and (Counter(hand)['J'] == 1)):\n",
    "        one_pairs.append(hand)\n",
    "        \n",
    "    else:\n",
    "        high_cards.append(hand)"
   ]
  },
  {
   "cell_type": "code",
   "execution_count": 6,
   "id": "38c232ab-30cc-490d-a1ff-0421a6678624",
   "metadata": {},
   "outputs": [],
   "source": [
    "fives = sorted([Hand(hand) for hand in fives])\n",
    "fours = sorted([Hand(hand) for hand in fours])\n",
    "fulls = sorted([Hand(hand) for hand in fulls])\n",
    "threes = sorted([Hand(hand) for hand in threes])\n",
    "two_pairs = sorted([Hand(hand) for hand in two_pairs])\n",
    "one_pairs = sorted([Hand(hand) for hand in one_pairs])\n",
    "high_cards = sorted([Hand(hand) for hand in high_cards])"
   ]
  },
  {
   "cell_type": "code",
   "execution_count": 7,
   "id": "3e8a7d86-bb69-42c1-8838-941c0c2a4abe",
   "metadata": {},
   "outputs": [],
   "source": [
    "fives = [hand.hand for hand in fives]\n",
    "fours = [hand.hand for hand in fours]\n",
    "fulls = [hand.hand for hand in fulls]\n",
    "threes = [hand.hand for hand in threes]\n",
    "two_pairs = [hand.hand for hand in two_pairs]\n",
    "one_pairs = [hand.hand for hand in one_pairs]\n",
    "high_cards = [hand.hand for hand in high_cards]"
   ]
  },
  {
   "cell_type": "code",
   "execution_count": 8,
   "id": "76990253-07d5-48d0-9f34-3bbe09e72d24",
   "metadata": {},
   "outputs": [],
   "source": [
    "all_hands = high_cards + one_pairs + two_pairs + threes + fulls + fours + fives"
   ]
  },
  {
   "cell_type": "code",
   "execution_count": 9,
   "id": "4e32cc65-fe16-4c99-b624-6223358905df",
   "metadata": {},
   "outputs": [],
   "source": [
    "winnings = []\n",
    "for i, hand in enumerate(all_hands):\n",
    "    bid = int([x.split(' ')[1] for x in input_list if x.split(' ')[0] == hand][0])\n",
    "    winning = (i+1)*bid\n",
    "    winnings.append(winning)"
   ]
  },
  {
   "cell_type": "code",
   "execution_count": 10,
   "id": "cc059ae6-6a01-4a09-910d-351967d953a4",
   "metadata": {},
   "outputs": [
    {
     "data": {
      "text/plain": [
       "253473930"
      ]
     },
     "execution_count": 10,
     "metadata": {},
     "output_type": "execute_result"
    }
   ],
   "source": [
    "new_solution = sum(winnings)\n",
    "new_solution"
   ]
  }
 ],
 "metadata": {
  "kernelspec": {
   "display_name": "Python 3 (ipykernel)",
   "language": "python",
   "name": "python3"
  },
  "language_info": {
   "codemirror_mode": {
    "name": "ipython",
    "version": 3
   },
   "file_extension": ".py",
   "mimetype": "text/x-python",
   "name": "python",
   "nbconvert_exporter": "python",
   "pygments_lexer": "ipython3",
   "version": "3.10.9"
  }
 },
 "nbformat": 4,
 "nbformat_minor": 5
}
