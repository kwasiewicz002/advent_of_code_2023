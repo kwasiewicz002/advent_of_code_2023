{
 "cells": [
  {
   "cell_type": "markdown",
   "id": "af094dab-aa3f-41d1-8741-1bb08c4cca90",
   "metadata": {},
   "source": [
    "### Part 1"
   ]
  },
  {
   "cell_type": "code",
   "execution_count": null,
   "id": "25b2fcc0-b2a7-4c93-8fa9-7875bc516760",
   "metadata": {},
   "outputs": [],
   "source": [
    "from itertools import cycle"
   ]
  },
  {
   "cell_type": "code",
   "execution_count": null,
   "id": "829efec6-0c81-4487-8de8-c361a854f742",
   "metadata": {},
   "outputs": [],
   "source": [
    "# read the input\n",
    "input_data = open(\"08_input.txt\", \"r\").read()\n",
    "input_list = input_data.split(\"\\n\") "
   ]
  },
  {
   "cell_type": "code",
   "execution_count": null,
   "id": "f3af2782-80d5-4463-b0f3-0416a149474e",
   "metadata": {},
   "outputs": [],
   "source": [
    "directions = input_list[0]\n",
    "nodes = input_list[2:]"
   ]
  },
  {
   "cell_type": "code",
   "execution_count": null,
   "id": "87127214-3668-4857-b000-5b7ca5323e58",
   "metadata": {},
   "outputs": [],
   "source": [
    "nodes_dict = {}\n",
    "for node in nodes:\n",
    "    start, elements = node.split('=')\n",
    "    \n",
    "    key = start.strip()\n",
    "    values = [i.strip() for i in elements.replace('(', '').replace(')','').split(',')]\n",
    "    nodes_dict[key] = values"
   ]
  },
  {
   "cell_type": "code",
   "execution_count": null,
   "id": "fe63ce3c-d8a8-4b22-a0e2-cdcdba1850b4",
   "metadata": {},
   "outputs": [],
   "source": [
    "start_from = 'AAA'\n",
    "\n",
    "steps_n = 0\n",
    "for hint in cycle(directions):\n",
    "    steps_n += 1\n",
    "    \n",
    "    if hint == 'L':\n",
    "        start_from = nodes_dict[start_from][0]\n",
    "    else:\n",
    "        start_from = nodes_dict[start_from][1]\n",
    "    \n",
    "    if start_from == 'ZZZ':\n",
    "        break"
   ]
  },
  {
   "cell_type": "code",
   "execution_count": null,
   "id": "79b7767e-a679-43d1-80da-101668d119ef",
   "metadata": {},
   "outputs": [],
   "source": [
    "solution = steps_n\n",
    "solution"
   ]
  },
  {
   "cell_type": "code",
   "execution_count": null,
   "id": "8996a232-d3ce-4e8c-a2d9-e2e4a21960ae",
   "metadata": {},
   "outputs": [],
   "source": [
    "# check if the nodes are unique to confirm that they can be stored in a dictionary\n",
    "from collections import Counter\n",
    "a = [i.split('=')[0].strip() for i in nodes]\n",
    "set(Counter(a).values())"
   ]
  },
  {
   "cell_type": "markdown",
   "id": "199d374c-1f19-45c8-929f-17f7596c8672",
   "metadata": {},
   "source": [
    "### Part 2from itertools import cycle"
   ]
  },
  {
   "cell_type": "code",
   "execution_count": 1,
   "id": "1fa93f87-53f1-4227-bc32-354d72cb7f5f",
   "metadata": {},
   "outputs": [],
   "source": [
    "from itertools import cycle"
   ]
  },
  {
   "cell_type": "code",
   "execution_count": 2,
   "id": "01a83916-f233-4578-8e93-cc3e5e939f32",
   "metadata": {},
   "outputs": [],
   "source": [
    "# read the input\n",
    "input_data = open(\"08_input.txt\", \"r\").read()\n",
    "input_list = input_data.split(\"\\n\") "
   ]
  },
  {
   "cell_type": "code",
   "execution_count": 3,
   "id": "f2a050c6-2947-4c69-9307-e55aedf448d9",
   "metadata": {},
   "outputs": [],
   "source": [
    "directions = input_list[0]\n",
    "nodes = input_list[2:]"
   ]
  },
  {
   "cell_type": "code",
   "execution_count": 4,
   "id": "270aefe3-5e28-4618-a0f9-753e36e68d4b",
   "metadata": {},
   "outputs": [],
   "source": [
    "nodes_dict = {}\n",
    "for node in nodes:\n",
    "    start, elements = node.split('=')\n",
    "    \n",
    "    key = start.strip()\n",
    "    values = [i.strip() for i in elements.replace('(', '').replace(')','').split(',')]\n",
    "    nodes_dict[key] = values"
   ]
  },
  {
   "cell_type": "code",
   "execution_count": 6,
   "id": "ede1e727-e85e-4ddf-86a5-0fbe1fc09a07",
   "metadata": {},
   "outputs": [],
   "source": [
    "starting_points = [node for node in nodes_dict.keys() if node[-1] == 'A']\n",
    "\n",
    "steps_n = 0\n",
    "for hint in cycle(directions):\n",
    "    steps_n += 1\n",
    "    \n",
    "    if hint == 'L':\n",
    "        starting_points = [nodes_dict[point][0] for point in starting_points]\n",
    "    else:\n",
    "        starting_points = [nodes_dict[point][1] for point in starting_points]\n",
    "    \n",
    "    if all(point[-1]=='Z' for point in starting_points):\n",
    "        break"
   ]
  },
  {
   "cell_type": "code",
   "execution_count": null,
   "id": "00551f43-c865-4227-b5c9-34f385b8a24e",
   "metadata": {},
   "outputs": [],
   "source": [
    "new_solution = steps_n\n",
    "new_solution"
   ]
  },
  {
   "cell_type": "code",
   "execution_count": null,
   "id": "0600c0a4-205d-42d4-91e5-bfd0b0013e52",
   "metadata": {},
   "outputs": [],
   "source": []
  }
 ],
 "metadata": {
  "kernelspec": {
   "display_name": "Python 3 (ipykernel)",
   "language": "python",
   "name": "python3"
  },
  "language_info": {
   "codemirror_mode": {
    "name": "ipython",
    "version": 3
   },
   "file_extension": ".py",
   "mimetype": "text/x-python",
   "name": "python",
   "nbconvert_exporter": "python",
   "pygments_lexer": "ipython3",
   "version": "3.10.9"
  }
 },
 "nbformat": 4,
 "nbformat_minor": 5
}
