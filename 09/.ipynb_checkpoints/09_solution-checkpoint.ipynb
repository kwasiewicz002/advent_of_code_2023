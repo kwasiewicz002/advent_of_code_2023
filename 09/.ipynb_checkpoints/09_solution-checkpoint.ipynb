{
 "cells": [
  {
   "cell_type": "markdown",
   "id": "a172d959-fcbc-4c2b-9473-8e8eb70aa48f",
   "metadata": {},
   "source": [
    "### Part 1"
   ]
  },
  {
   "cell_type": "code",
   "execution_count": 1,
   "id": "81ad2ad5-8e11-45e7-99e3-1a237d2e4789",
   "metadata": {},
   "outputs": [],
   "source": [
    "# read the input\n",
    "input_data = open(\"09_input.txt\", \"r\").read()\n",
    "input_list = input_data.split(\"\\n\") "
   ]
  },
  {
   "cell_type": "code",
   "execution_count": 2,
   "id": "9097d25d-3785-4fb0-b04b-b19f487f83e6",
   "metadata": {},
   "outputs": [],
   "source": [
    "# further prepare the input\n",
    "input_final = []\n",
    "for history in input_list:\n",
    "    sequence = history.split(' ')\n",
    "    sequence_int = [int(i) for i in sequence]\n",
    "    input_final.append([sequence_int])"
   ]
  },
  {
   "cell_type": "code",
   "execution_count": 3,
   "id": "19070dff-3829-42bf-b9b5-4cec31b68aa4",
   "metadata": {},
   "outputs": [],
   "source": [
    "for history in input_final:\n",
    "    \n",
    "    for sequence in history:\n",
    "        diffs = []\n",
    "        for i, elem in enumerate(sequence):\n",
    "            if i < len(sequence)-1:\n",
    "                diffs.append(sequence[i+1]-elem)\n",
    "        history.append(diffs)\n",
    "        \n",
    "        if all([diff_i==0 for diff_i in diffs]):\n",
    "            break"
   ]
  },
  {
   "cell_type": "code",
   "execution_count": 4,
   "id": "996b580b-491d-4e31-91de-000251531cba",
   "metadata": {},
   "outputs": [],
   "source": [
    "for history in input_final:\n",
    "    history_reversed = history[::-1]\n",
    "    \n",
    "    for i, sequence in enumerate(history_reversed):\n",
    "        if i == 0:\n",
    "            sequence.append(0)\n",
    "        else:\n",
    "            next_elem = history_reversed[i-1][-1] + sequence[-1]\n",
    "            sequence.append(next_elem)"
   ]
  },
  {
   "cell_type": "code",
   "execution_count": 5,
   "id": "ca13a2b3-9407-44bf-9a78-ce0b4d622c50",
   "metadata": {},
   "outputs": [],
   "source": [
    "predictions = []\n",
    "for history in input_final:\n",
    "    predictions.append(history[0][-1])"
   ]
  },
  {
   "cell_type": "code",
   "execution_count": 6,
   "id": "204c1906-271a-443d-aeb8-759f0644c208",
   "metadata": {},
   "outputs": [
    {
     "data": {
      "text/plain": [
       "1666172641"
      ]
     },
     "execution_count": 6,
     "metadata": {},
     "output_type": "execute_result"
    }
   ],
   "source": [
    "solution = sum(predictions)\n",
    "solution"
   ]
  },
  {
   "cell_type": "markdown",
   "id": "e1ee4368-cdfc-4bf3-98aa-442236a87c02",
   "metadata": {},
   "source": [
    "### Part 2"
   ]
  },
  {
   "cell_type": "code",
   "execution_count": 16,
   "id": "9cc823f5-ec64-4445-89c2-10fcf96847da",
   "metadata": {},
   "outputs": [],
   "source": [
    "# read the input\n",
    "input_data = open(\"09_input.txt\", \"r\").read()\n",
    "input_list = input_data.split(\"\\n\") "
   ]
  },
  {
   "cell_type": "code",
   "execution_count": 17,
   "id": "0afb94c1-a0dd-40d3-ba0a-dd1a9375b95d",
   "metadata": {},
   "outputs": [],
   "source": [
    "# further prepare the input\n",
    "input_final = []\n",
    "for history in input_list:\n",
    "    sequence = history.split(' ')\n",
    "    sequence_int = [int(i) for i in sequence]\n",
    "    input_final.append([sequence_int])"
   ]
  },
  {
   "cell_type": "code",
   "execution_count": 18,
   "id": "d2babfab-1280-4ec1-9a14-2ddf23d9937a",
   "metadata": {},
   "outputs": [],
   "source": [
    "for history in input_final:\n",
    "    \n",
    "    for sequence in history:\n",
    "        diffs = []\n",
    "        for i, elem in enumerate(sequence):\n",
    "            if i < len(sequence)-1:\n",
    "                diffs.append(sequence[i+1]-elem)\n",
    "        history.append(diffs)\n",
    "        \n",
    "        if all([diff_i==0 for diff_i in diffs]):\n",
    "            break"
   ]
  },
  {
   "cell_type": "code",
   "execution_count": 19,
   "id": "282e7c27-ea57-4138-a2bf-d4dd95c0851a",
   "metadata": {},
   "outputs": [],
   "source": [
    "for history in input_final:\n",
    "    history_reversed = history[::-1]\n",
    "    \n",
    "    for i, sequence in enumerate(history_reversed):\n",
    "        if i == 0:\n",
    "            sequence.insert(0, 0)\n",
    "        else:\n",
    "            prev_elem = sequence[0] - history_reversed[i-1][0]\n",
    "            sequence.insert(0, prev_elem)"
   ]
  },
  {
   "cell_type": "code",
   "execution_count": 20,
   "id": "ad33777a-d45d-47c2-9cdc-9db1562cbe32",
   "metadata": {},
   "outputs": [],
   "source": [
    "predictions = []\n",
    "for history in input_final:\n",
    "    predictions.append(history[0][0])"
   ]
  },
  {
   "cell_type": "code",
   "execution_count": 21,
   "id": "99323743-d6e5-4148-94df-b6a9fe36aa28",
   "metadata": {},
   "outputs": [
    {
     "data": {
      "text/plain": [
       "933"
      ]
     },
     "execution_count": 21,
     "metadata": {},
     "output_type": "execute_result"
    }
   ],
   "source": [
    "new_solution = sum(predictions)\n",
    "new_solution"
   ]
  },
  {
   "cell_type": "code",
   "execution_count": null,
   "id": "3c39f2a8-545f-4b4b-9a55-05bb6aaf2869",
   "metadata": {},
   "outputs": [],
   "source": []
  }
 ],
 "metadata": {
  "kernelspec": {
   "display_name": "Python 3 (ipykernel)",
   "language": "python",
   "name": "python3"
  },
  "language_info": {
   "codemirror_mode": {
    "name": "ipython",
    "version": 3
   },
   "file_extension": ".py",
   "mimetype": "text/x-python",
   "name": "python",
   "nbconvert_exporter": "python",
   "pygments_lexer": "ipython3",
   "version": "3.10.9"
  }
 },
 "nbformat": 4,
 "nbformat_minor": 5
}
