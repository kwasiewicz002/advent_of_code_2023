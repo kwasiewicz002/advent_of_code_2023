{
 "cells": [
  {
   "cell_type": "markdown",
   "id": "ddbbe256-ce06-4e0b-bd4d-1da0b5c225ae",
   "metadata": {},
   "source": [
    "### Part 1"
   ]
  },
  {
   "cell_type": "code",
   "execution_count": 1,
   "id": "992d1890-e421-4a4c-87a0-a7d03a390e0e",
   "metadata": {},
   "outputs": [],
   "source": [
    "import math"
   ]
  },
  {
   "cell_type": "code",
   "execution_count": 2,
   "id": "c0e581a5-1cee-4bda-a0b5-b4f6985f30da",
   "metadata": {},
   "outputs": [],
   "source": [
    "def manhattan(a, b):\n",
    "    return sum(abs(val1-val2) for val1, val2 in zip(a,b))"
   ]
  },
  {
   "cell_type": "code",
   "execution_count": 3,
   "id": "8f1545dd-c026-45c1-a04b-a22ee24ba8e3",
   "metadata": {},
   "outputs": [],
   "source": [
    "# read the input\n",
    "input_data = open(\"11_input.txt\", \"r\").read()\n",
    "input_list = input_data.split(\"\\n\") "
   ]
  },
  {
   "cell_type": "code",
   "execution_count": 4,
   "id": "c91a8306-f2d0-4508-a465-ebe4fc46a60c",
   "metadata": {},
   "outputs": [],
   "source": [
    "# expand the universe\n",
    "\n",
    "# rows\n",
    "rows_to_expand = []\n",
    "for i, row in enumerate(input_list):\n",
    "    if all([char == '.' for char in row]):\n",
    "        rows_to_expand.append(i)\n",
    "        \n",
    "for i, row_i in enumerate(rows_to_expand):\n",
    "    input_list.insert(row_i+i, input_list[row_i+i])\n",
    "\n",
    "# columns\n",
    "cols_to_expand = []\n",
    "for i in range(len(input_list[0])):\n",
    "    col = [row[i] for row in input_list]\n",
    "    if all([char == '.' for char in col]):\n",
    "        cols_to_expand.append(i)\n",
    "        \n",
    "for i, col_i in enumerate(cols_to_expand):\n",
    "    for n, row in enumerate(input_list):\n",
    "        input_list[n] = row[:(col_i+i)] + '.' + row[(col_i+i):]"
   ]
  },
  {
   "cell_type": "code",
   "execution_count": 5,
   "id": "e3225299-5f44-41dc-948f-0579489bdf7f",
   "metadata": {},
   "outputs": [],
   "source": [
    "galaxies = {}\n",
    "ng = 0\n",
    "for i, row in enumerate(input_list):\n",
    "    for j, char in enumerate(row):\n",
    "        if char == '#':\n",
    "            ng += 1\n",
    "            galaxies[ng] = [i, j]"
   ]
  },
  {
   "cell_type": "code",
   "execution_count": 7,
   "id": "69838c86-10db-42dd-a0ec-1d8dd8f98f8d",
   "metadata": {},
   "outputs": [],
   "source": [
    "distances = []\n",
    "for i in range(len(galaxies.keys())):\n",
    "    for j in range(i+1, len(galaxies.keys())):\n",
    "        distances.append(manhattan(galaxies[i+1], galaxies[j+1]))        "
   ]
  },
  {
   "cell_type": "code",
   "execution_count": 8,
   "id": "94356fdd-30b3-4135-820f-bd0b7c691b03",
   "metadata": {},
   "outputs": [
    {
     "data": {
      "text/plain": [
       "9509330"
      ]
     },
     "execution_count": 8,
     "metadata": {},
     "output_type": "execute_result"
    }
   ],
   "source": [
    "solution = sum(distances)\n",
    "solution"
   ]
  },
  {
   "cell_type": "code",
   "execution_count": null,
   "id": "828af8ba-88f3-44a3-909b-e283c38fc962",
   "metadata": {},
   "outputs": [],
   "source": []
  },
  {
   "cell_type": "code",
   "execution_count": null,
   "id": "08385136-b0a7-47cf-aa12-454520ab568b",
   "metadata": {},
   "outputs": [],
   "source": []
  },
  {
   "cell_type": "code",
   "execution_count": null,
   "id": "7eb42abf-3495-4928-bfbc-ac98a7fa1deb",
   "metadata": {},
   "outputs": [],
   "source": []
  }
 ],
 "metadata": {
  "kernelspec": {
   "display_name": "Python 3 (ipykernel)",
   "language": "python",
   "name": "python3"
  },
  "language_info": {
   "codemirror_mode": {
    "name": "ipython",
    "version": 3
   },
   "file_extension": ".py",
   "mimetype": "text/x-python",
   "name": "python",
   "nbconvert_exporter": "python",
   "pygments_lexer": "ipython3",
   "version": "3.10.9"
  }
 },
 "nbformat": 4,
 "nbformat_minor": 5
}
